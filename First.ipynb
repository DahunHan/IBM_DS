{
 "cells": [
  {
   "cell_type": "markdown",
   "id": "86bf069d-5775-4e46-8553-eda355ce71e3",
   "metadata": {},
   "source": [
    " Hello, this is Dahun Han! Lets get started with Data Science."
   ]
  },
  {
   "cell_type": "markdown",
   "id": "4229fb78-e5e4-4eef-9e2d-79e73952ef92",
   "metadata": {},
   "source": [
    "Python, R, Javascript and etc."
   ]
  },
  {
   "cell_type": "markdown",
   "id": "c18ce89d-cbed-456b-a786-8be2150177bb",
   "metadata": {},
   "source": [
    "NumPy, Pandas, Scikit-Learn, TensorFlow"
   ]
  },
  {
   "cell_type": "markdown",
   "id": "a294a284-870e-4e75-8037-dd6a705600ea",
   "metadata": {},
   "source": [
    "Jupyter Notebook, Pytorch, MLFlow, HuggingFace, Tableau"
   ]
  },
  {
   "cell_type": "markdown",
   "id": "09dca9e8-058b-4a64-b7b2-fe213fef46f8",
   "metadata": {},
   "source": [
    "25+25=50"
   ]
  },
  {
   "cell_type": "code",
   "execution_count": null,
   "id": "fd9bc4db-b63b-4756-b16c-76a309285948",
   "metadata": {},
   "outputs": [],
   "source": []
  },
  {
   "cell_type": "code",
   "execution_count": 4,
   "id": "161cfe70-0ae8-46b6-94b3-b3d0fdfdf3b2",
   "metadata": {},
   "outputs": [
    {
     "data": {
      "text/plain": [
       "45"
      ]
     },
     "execution_count": 4,
     "metadata": {},
     "output_type": "execute_result"
    }
   ],
   "source": [
    "25+(4*5)"
   ]
  },
  {
   "cell_type": "code",
   "execution_count": 6,
   "id": "fb3ec32e-2e06-4f02-9400-c35f9536c95b",
   "metadata": {},
   "outputs": [
    {
     "name": "stdin",
     "output_type": "stream",
     "text": [
      "Enter the number of minutes:  50\n"
     ]
    },
    {
     "name": "stdout",
     "output_type": "stream",
     "text": [
      "50.0 minutes is equal to 0.83 hours\n"
     ]
    }
   ],
   "source": [
    "# Function to convert minutes to hours\n",
    "def minutes_to_hours(minutes):\n",
    "    hours = minutes / 60\n",
    "    return hours\n",
    "\n",
    "# Example usage\n",
    "minutes = float(input(\"Enter the number of minutes: \"))\n",
    "hours = minutes_to_hours(minutes)\n",
    "print(f\"{minutes} minutes is equal to {hours:.2f} hours\")\n"
   ]
  },
  {
   "cell_type": "markdown",
   "id": "84c3566c-cb6c-451d-bb37-b6d8e61c33fa",
   "metadata": {},
   "source": [
    "# Objectives:\n",
    "## Getting to know Data Science Languages\n",
    "## Getting to know Data Science Tools\n",
    "## Getting to know Data Science Libraries"
   ]
  },
  {
   "cell_type": "markdown",
   "id": "f1339c69-683a-4207-a8ec-03e375ea5577",
   "metadata": {},
   "source": [
    "# Book Title : Deep Learning with Python\n",
    "## Author : Francis Schole"
   ]
  }
 ],
 "metadata": {
  "kernelspec": {
   "display_name": "Python 3 (ipykernel)",
   "language": "python",
   "name": "python3"
  },
  "language_info": {
   "codemirror_mode": {
    "name": "ipython",
    "version": 3
   },
   "file_extension": ".py",
   "mimetype": "text/x-python",
   "name": "python",
   "nbconvert_exporter": "python",
   "pygments_lexer": "ipython3",
   "version": "3.12.8"
  }
 },
 "nbformat": 4,
 "nbformat_minor": 5
}
