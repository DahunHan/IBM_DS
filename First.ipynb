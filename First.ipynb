{
 "cells": [
  {
   "cell_type": "markdown",
   "id": "f37471ac-a11f-4aaf-bcce-11c3bf425908",
   "metadata": {},
   "source": [
    "# Title : First"
   ]
  },
  {
   "cell_type": "markdown",
   "id": "86bf069d-5775-4e46-8553-eda355ce71e3",
   "metadata": {},
   "source": [
    " ## Introduction : Hello, this is Dahun Han! Lets get started with Data Science."
   ]
  },
  {
   "cell_type": "markdown",
   "id": "4229fb78-e5e4-4eef-9e2d-79e73952ef92",
   "metadata": {},
   "source": [
    "Data Science Languages\n",
    "1. Python\n",
    "2. R\n",
    "3. Javascript"
   ]
  },
  {
   "cell_type": "markdown",
   "id": "c18ce89d-cbed-456b-a786-8be2150177bb",
   "metadata": {},
   "source": [
    "Data Science Libraries\n",
    "1. NumPy\n",
    "2. Pandas\n",
    "3. Scikit-Learn\n",
    "4. TensorFlow"
   ]
  },
  {
   "cell_type": "markdown",
   "id": "a294a284-870e-4e75-8037-dd6a705600ea",
   "metadata": {},
   "source": [
    "Data Science Tools\n",
    "1. Jupyter Notebook\n",
    "2. Pytorch\n",
    "3. MLFlow\n",
    "4. HuggingFace\n",
    "5. Tableau"
   ]
  },
  {
   "cell_type": "markdown",
   "id": "09dca9e8-058b-4a64-b7b2-fe213fef46f8",
   "metadata": {},
   "source": [
    "Arithmetic Expression Examples\n",
    "1. Addition : 25+25=50\n",
    "2. Subtraction : 50-25 = 25\n",
    "3. Multiply : 25 * 2 = 50\n",
    "4. Division : 50/2 = 25"
   ]
  },
  {
   "cell_type": "code",
   "execution_count": 17,
   "id": "161cfe70-0ae8-46b6-94b3-b3d0fdfdf3b2",
   "metadata": {},
   "outputs": [
    {
     "data": {
      "text/plain": [
       "45"
      ]
     },
     "execution_count": 17,
     "metadata": {},
     "output_type": "execute_result"
    }
   ],
   "source": [
    "25+(4*5)"
   ]
  },
  {
   "cell_type": "code",
   "execution_count": 10,
   "id": "fb3ec32e-2e06-4f02-9400-c35f9536c95b",
   "metadata": {},
   "outputs": [
    {
     "name": "stdin",
     "output_type": "stream",
     "text": [
      "Enter the number of minutes:  60\n"
     ]
    },
    {
     "name": "stdout",
     "output_type": "stream",
     "text": [
      "60.0 minutes is equal to 1.00 hours\n"
     ]
    }
   ],
   "source": [
    "# Function to convert minutes to hours\n",
    "def minutes_to_hours(minutes):\n",
    "    hours = minutes / 60\n",
    "    return hours\n",
    "\n",
    "# Example usage\n",
    "minutes = float(input(\"Enter the number of minutes: \"))\n",
    "hours = minutes_to_hours(minutes)\n",
    "print(f\"{minutes} minutes is equal to {hours:.2f} hours\")\n"
   ]
  },
  {
   "cell_type": "markdown",
   "id": "84c3566c-cb6c-451d-bb37-b6d8e61c33fa",
   "metadata": {},
   "source": [
    "# Objectives:\n",
    "## Getting to know Data Science Languages\n",
    "## Getting to know Data Science Tools\n",
    "## Getting to know Data Science Libraries"
   ]
  },
  {
   "cell_type": "markdown",
   "id": "f1339c69-683a-4207-a8ec-03e375ea5577",
   "metadata": {},
   "source": [
    "# Book Title : Deep Learning with Python\n",
    "## Authors : Francis Schole"
   ]
  },
  {
   "cell_type": "code",
   "execution_count": null,
   "id": "a5d80f8e-2968-42d3-8da0-e40ca22c1f24",
   "metadata": {},
   "outputs": [],
   "source": []
  }
 ],
 "metadata": {
  "kernelspec": {
   "display_name": "Python [conda env:base] *",
   "language": "python",
   "name": "conda-base-py"
  },
  "language_info": {
   "codemirror_mode": {
    "name": "ipython",
    "version": 3
   },
   "file_extension": ".py",
   "mimetype": "text/x-python",
   "name": "python",
   "nbconvert_exporter": "python",
   "pygments_lexer": "ipython3",
   "version": "3.12.7"
  }
 },
 "nbformat": 4,
 "nbformat_minor": 5
}
